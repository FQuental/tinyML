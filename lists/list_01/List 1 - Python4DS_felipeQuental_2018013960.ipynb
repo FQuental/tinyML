{
 "cells": [
  {
   "cell_type": "code",
   "execution_count": 1,
   "id": "583c1418",
   "metadata": {
    "scrolled": false
   },
   "outputs": [
    {
     "name": "stdout",
     "output_type": "stream",
     "text": [
      "You've successfully run some Python code\n",
      "Congratulations!\n"
     ]
    }
   ],
   "source": [
    "print(\"You've successfully run some Python code\")\n",
    "print(\"Congratulations!\")"
   ]
  },
  {
   "cell_type": "code",
   "execution_count": 2,
   "id": "c4ee6c20",
   "metadata": {},
   "outputs": [
    {
     "name": "stdout",
     "output_type": "stream",
     "text": [
      "The area of a circle with radius 1.5 is 7.0685775\n"
     ]
    }
   ],
   "source": [
    "pi = 3.14159\n",
    "diameter = 3\n",
    "\n",
    "radius = diameter/2\n",
    "\n",
    "area = pi*radius**2\n",
    "\n",
    "print(\"The area of a circle with radius {} is {}\".format(radius, area))"
   ]
  },
  {
   "cell_type": "code",
   "execution_count": 4,
   "id": "5fc28e11",
   "metadata": {},
   "outputs": [
    {
     "name": "stdout",
     "output_type": "stream",
     "text": [
      "[3, 2, 1]\n",
      "[1, 2, 3]\n"
     ]
    }
   ],
   "source": [
    "a = [1, 2, 3]\n",
    "b = [3, 2, 1]\n",
    "c = []\n",
    "\n",
    "c = a\n",
    "a = b\n",
    "b = c\n",
    "\n",
    "print(a)\n",
    "print(b)"
   ]
  },
  {
   "cell_type": "code",
   "execution_count": 7,
   "id": "a40be7f9",
   "metadata": {},
   "outputs": [
    {
     "name": "stdout",
     "output_type": "stream",
     "text": [
      "1\n",
      "0\n"
     ]
    }
   ],
   "source": [
    "print((5-3)//2)\n",
    "print(8-(3*2)-(1+1))"
   ]
  },
  {
   "cell_type": "code",
   "execution_count": 12,
   "id": "b0ca64d5",
   "metadata": {
    "scrolled": true
   },
   "outputs": [
    {
     "name": "stdout",
     "output_type": "stream",
     "text": [
      "1\n"
     ]
    }
   ],
   "source": [
    "alice_candies = 121\n",
    "bob_candies = 77\n",
    "carol_candies = 109\n",
    "\n",
    "to_smash = (alice_candies+bob_candies+carol_candies)%3\n",
    "print(to_smash)"
   ]
  },
  {
   "cell_type": "code",
   "execution_count": 24,
   "id": "647af075",
   "metadata": {},
   "outputs": [
    {
     "name": "stdout",
     "output_type": "stream",
     "text": [
      "3.14\n"
     ]
    }
   ],
   "source": [
    "def round_to_two_places(num):\n",
    "    \"\"\"Return the given number rounded to two decimal places. \n",
    "    \n",
    "    >>> round_to_two_places(3.14159)\n",
    "    3.14\n",
    "    \"\"\"\n",
    "    return round(num, 2)\n",
    "print(round_to_two_places(3.14159))"
   ]
  },
  {
   "cell_type": "code",
   "execution_count": 33,
   "id": "bf78affd",
   "metadata": {},
   "outputs": [
    {
     "name": "stdout",
     "output_type": "stream",
     "text": [
      "1000.0\n",
      "10.0\n",
      "0\n"
     ]
    }
   ],
   "source": [
    "print(round(598.88888, -3))\n",
    "print(round(5.11111, -1))\n",
    "print(round(5, -1))"
   ]
  },
  {
   "cell_type": "code",
   "execution_count": 57,
   "id": "09409686",
   "metadata": {},
   "outputs": [
    {
     "name": "stdout",
     "output_type": "stream",
     "text": [
      "to smash candies:  1 \n",
      "\n",
      "to smash candies:  0 \n",
      "\n",
      "to smash candies:  1 \n",
      "\n"
     ]
    }
   ],
   "source": [
    "def to_smash(total_candies,friends = 3):\n",
    "    \"\"\"Return the number of leftover candies that must be smashed after distributing\n",
    "    the given number of candies evenly between 3 friends.\n",
    "    \n",
    "    >>> to_smash(91)\n",
    "    1\n",
    "    \"\"\"\n",
    "    #print(\"Friends number: \",friends)\n",
    "    return total_candies%friends\n",
    "print(\"to smash candies: \",to_smash(91, 5),\"\\n\")\n",
    "print(\"to smash candies: \",to_smash(91, 1),\"\\n\")\n",
    "print(\"to smash candies: \",to_smash(91),\"\\n\")"
   ]
  },
  {
   "cell_type": "code",
   "execution_count": 65,
   "id": "9936eb92",
   "metadata": {},
   "outputs": [
    {
     "name": "stdout",
     "output_type": "stream",
     "text": [
      "-1\n",
      "1\n",
      "0\n"
     ]
    }
   ],
   "source": [
    "def sign (number):\n",
    "    \"\"\"Return -1 if it's negative, 1 if it's positive, and 0 if it's 0\n",
    "    \n",
    "    >>> sign(-25)\n",
    "    -1\n",
    "    >>> sign(25)\n",
    "    1\n",
    "    >>> sign(25-25)\n",
    "    0    \n",
    "    \"\"\"\n",
    "    if number != 0:\n",
    "        if number >= 1:\n",
    "            return 1;\n",
    "        else: return -1\n",
    "    else: return 0\n",
    "\n",
    "print(sign(-25))\n",
    "print(sign(25))\n",
    "print(sign(25-25))"
   ]
  },
  {
   "cell_type": "code",
   "execution_count": 66,
   "id": "25e2a3f5",
   "metadata": {},
   "outputs": [
    {
     "name": "stdout",
     "output_type": "stream",
     "text": [
      "Splitting 91 candies\n",
      "Splitting 1 candy\n"
     ]
    }
   ],
   "source": [
    "def to_smash(total_candies):\n",
    "    \"\"\"Return the number of leftover candies that must be smashed after distributing\n",
    "    the given number of candies evenly between 3 friends.\n",
    "    \n",
    "    >>> to_smash(91)\n",
    "    1\n",
    "    \"\"\"\n",
    "    if total_candies !=1:\n",
    "        print(\"Splitting\", total_candies, \"candies\")\n",
    "        return total_candies % 3\n",
    "    else: print(\"Splitting\", total_candies, \"candy\")\n",
    "\n",
    "to_smash(91)\n",
    "to_smash(1)"
   ]
  },
  {
   "cell_type": "code",
   "execution_count": 68,
   "id": "8d4378cf",
   "metadata": {},
   "outputs": [
    {
     "name": "stdout",
     "output_type": "stream",
     "text": [
      "True\n",
      "False\n",
      "False\n"
     ]
    }
   ],
   "source": [
    "def is_negative(number):\n",
    "    if number < 0:\n",
    "        return True\n",
    "    else:\n",
    "        return False\n",
    "\n",
    "def concise_is_negative(number):\n",
    "    return number < 0\n",
    "print(concise_is_negative(-25))\n",
    "print(concise_is_negative(25))\n",
    "print(concise_is_negative(0))"
   ]
  },
  {
   "cell_type": "code",
   "execution_count": 80,
   "id": "ec7568ac",
   "metadata": {},
   "outputs": [
    {
     "name": "stdout",
     "output_type": "stream",
     "text": [
      "(True, True, True) \n",
      "\n",
      "False \n",
      "\n",
      "Ketchup:  False  Mustard:  True  Onion:  True\n"
     ]
    }
   ],
   "source": [
    "def wants_all_toppings(ketchup, mustard, onion):\n",
    "    \"\"\"Return whether the customer wants \"the works\" (all 3 toppings)\n",
    "    \"\"\"\n",
    "    ketchup = True;    mustard = True; onion = True\n",
    "    return ketchup,mustard,onion\n",
    "\n",
    "def wants_plain_hotdog(ketchup, mustard, onion):\n",
    "    \"\"\"Return whether the customer wants a plain hot dog with no toppings.\n",
    "    \"\"\"\n",
    "    return ketchup != True; mustard != True; onion != True\n",
    "\n",
    "def exactly_one_sauce(ketchup, mustard, onion):\n",
    "    \"\"\"Return whether the customer wants either ketchup or mustard, but not both.\n",
    "    (You may be familiar with this operation under the name \"exclusive or\")\n",
    "    \"\"\"\n",
    "    if ketchup != mustard:\n",
    "        return True;\n",
    "    else: return False;\n",
    "    \n",
    "ketchup = True; mustard = False; onion = True\n",
    "print(wants_all_toppings(ketchup, mustard, onion),\"\\n\")\n",
    "print(wants_plain_hotdog(ketchup, mustard, onion),\"\\n\")\n",
    "ketchup = False; mustard = True; onion = True\n",
    "exactly_one_sauce(ketchup, mustard, onion)\n",
    "print(\"Ketchup: \",ketchup,\" Mustard: \",mustard,\" Onion: \",onion)"
   ]
  },
  {
   "cell_type": "code",
   "execution_count": 88,
   "id": "bb015ecc",
   "metadata": {},
   "outputs": [
    {
     "name": "stdout",
     "output_type": "stream",
     "text": [
      "True\n",
      "True\n"
     ]
    }
   ],
   "source": [
    "def exactly_one_topping(ketchup, mustard, onion):\n",
    "    \"\"\"Return whether the customer wants exactly one of the three available toppings\n",
    "    on their hot dog.\n",
    "    \"\"\"\n",
    "    return not(ketchup and mustard and onion)\n",
    "\n",
    "ketchup = False; mustard = False; onion = False\n",
    "print(exactly_one_topping(ketchup, mustard, onion))\n",
    "ketchup = False; mustard = False; onion = True\n",
    "print(exactly_one_topping(ketchup, mustard, onion))\n"
   ]
  },
  {
   "cell_type": "code",
   "execution_count": 92,
   "id": "91f07f87",
   "metadata": {},
   "outputs": [
    {
     "name": "stdout",
     "output_type": "stream",
     "text": [
      "2\n",
      "banana\n",
      "False\n",
      "None\n",
      "None\n"
     ]
    }
   ],
   "source": [
    "def select_second(L):\n",
    "    \"\"\"Return the second element of the given list. If the list has no second\n",
    "    element, return None.\n",
    "    \"\"\"\n",
    "    if len(L) < 2:\n",
    "        return None\n",
    "    return L[1]\n",
    "# Test Case 1\n",
    "result = select_second([1, 2, 3])\n",
    "print(result) # prints 2\n",
    "assert result == 2\n",
    "\n",
    "# Test Case 2\n",
    "result = select_second(['apple', 'banana', 'cherry', 'date'])\n",
    "print(result) # prints 'banana'\n",
    "assert result == 'banana'\n",
    "\n",
    "# Test Case 3\n",
    "result = select_second([True, False])\n",
    "print(result) # prints False\n",
    "assert result == False\n",
    "\n",
    "# Test Case 4\n",
    "result = select_second([1])\n",
    "print(result) # prints None\n",
    "assert result == None\n",
    "\n",
    "# Test Case 5\n",
    "result = select_second([])\n",
    "print(result) # prints None\n",
    "assert result == None"
   ]
  },
  {
   "cell_type": "code",
   "execution_count": null,
   "id": "3d0570e5",
   "metadata": {},
   "outputs": [],
   "source": []
  },
  {
   "cell_type": "code",
   "execution_count": null,
   "id": "17c78758",
   "metadata": {},
   "outputs": [],
   "source": []
  }
 ],
 "metadata": {
  "kernelspec": {
   "display_name": "Python 3 (ipykernel)",
   "language": "python",
   "name": "python3"
  },
  "language_info": {
   "codemirror_mode": {
    "name": "ipython",
    "version": 3
   },
   "file_extension": ".py",
   "mimetype": "text/x-python",
   "name": "python",
   "nbconvert_exporter": "python",
   "pygments_lexer": "ipython3",
   "version": "3.11.0"
  }
 },
 "nbformat": 4,
 "nbformat_minor": 5
}
