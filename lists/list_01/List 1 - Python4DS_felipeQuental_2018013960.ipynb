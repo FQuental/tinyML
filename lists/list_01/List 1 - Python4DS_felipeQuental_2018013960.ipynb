{
 "cells": [
  {
   "cell_type": "markdown",
   "id": "a7314810",
   "metadata": {},
   "source": [
    "# List 1 (Python4DS-Review)"
   ]
  },
  {
   "cell_type": "code",
   "execution_count": null,
   "id": "d01bd941",
   "metadata": {},
   "outputs": [],
   "source": [
    "print(\"You've successfully run some Python code\")\n",
    "print(\"Congratulations!\")"
   ]
  },
  {
   "cell_type": "code",
   "execution_count": null,
   "id": "e20db79c",
   "metadata": {},
   "outputs": [],
   "source": [
    "pi = 3.14159\n",
    "diameter = 3\n",
    "\n",
    "radius = diameter/2\n",
    "\n",
    "area = pi*radius**2\n",
    "\n",
    "print(\"The area of a circle with radius {} is {}\".format(radius, area))"
   ]
  },
  {
   "cell_type": "code",
   "execution_count": 3,
   "id": "5fc28e11",
   "metadata": {},
   "outputs": [
    {
     "name": "stdout",
     "output_type": "stream",
     "text": [
      "[3, 2, 1]\n",
      "[1, 2, 3]\n"
     ]
    }
   ],
   "source": [
    "a = [1, 2, 3]\n",
    "b = [3, 2, 1]\n",
    "\n",
    "a,b = b,a\n",
    "\n",
    "print(a)\n",
    "print(b)"
   ]
  },
  {
   "cell_type": "code",
   "execution_count": 7,
   "id": "a40be7f9",
   "metadata": {},
   "outputs": [
    {
     "name": "stdout",
     "output_type": "stream",
     "text": [
      "1\n",
      "0\n"
     ]
    }
   ],
   "source": [
    "print((5-3)//2)\n",
    "print(8-(3*2)-(1+1))"
   ]
  },
  {
   "cell_type": "code",
   "execution_count": 12,
   "id": "b0ca64d5",
   "metadata": {
    "scrolled": true
   },
   "outputs": [
    {
     "name": "stdout",
     "output_type": "stream",
     "text": [
      "1\n"
     ]
    }
   ],
   "source": [
    "alice_candies = 121\n",
    "bob_candies = 77\n",
    "carol_candies = 109\n",
    "\n",
    "to_smash = (alice_candies+bob_candies+carol_candies)%3\n",
    "print(to_smash)"
   ]
  },
  {
   "cell_type": "code",
   "execution_count": 24,
   "id": "647af075",
   "metadata": {},
   "outputs": [
    {
     "name": "stdout",
     "output_type": "stream",
     "text": [
      "3.14\n"
     ]
    }
   ],
   "source": [
    "def round_to_two_places(num):\n",
    "    \"\"\"Return the given number rounded to two decimal places. \n",
    "    \n",
    "    >>> round_to_two_places(3.14159)\n",
    "    3.14\n",
    "    \"\"\"\n",
    "    return round(num, 2)\n",
    "print(round_to_two_places(3.14159))"
   ]
  },
  {
   "cell_type": "code",
   "execution_count": 33,
   "id": "bf78affd",
   "metadata": {},
   "outputs": [
    {
     "name": "stdout",
     "output_type": "stream",
     "text": [
      "1000.0\n",
      "10.0\n",
      "0\n"
     ]
    }
   ],
   "source": [
    "print(round(598.88888, -3))\n",
    "print(round(5.11111, -1))\n",
    "print(round(5, -1))"
   ]
  },
  {
   "cell_type": "code",
   "execution_count": 57,
   "id": "09409686",
   "metadata": {},
   "outputs": [
    {
     "name": "stdout",
     "output_type": "stream",
     "text": [
      "to smash candies:  1 \n",
      "\n",
      "to smash candies:  0 \n",
      "\n",
      "to smash candies:  1 \n",
      "\n"
     ]
    }
   ],
   "source": [
    "def to_smash(total_candies,friends = 3):\n",
    "    \"\"\"Return the number of leftover candies that must be smashed after distributing\n",
    "    the given number of candies evenly between 3 friends.\n",
    "    \n",
    "    >>> to_smash(91)\n",
    "    1\n",
    "    \"\"\"\n",
    "    #print(\"Friends number: \",friends)\n",
    "    return total_candies%friends\n",
    "print(\"to smash candies: \",to_smash(91, 5),\"\\n\")\n",
    "print(\"to smash candies: \",to_smash(91, 1),\"\\n\")\n",
    "print(\"to smash candies: \",to_smash(91),\"\\n\")"
   ]
  },
  {
   "cell_type": "code",
   "execution_count": 65,
   "id": "9936eb92",
   "metadata": {},
   "outputs": [
    {
     "name": "stdout",
     "output_type": "stream",
     "text": [
      "-1\n",
      "1\n",
      "0\n"
     ]
    }
   ],
   "source": [
    "def sign (number):\n",
    "    \"\"\"Return -1 if it's negative, 1 if it's positive, and 0 if it's 0\n",
    "    \n",
    "    >>> sign(-25)\n",
    "    -1\n",
    "    >>> sign(25)\n",
    "    1\n",
    "    >>> sign(25-25)\n",
    "    0    \n",
    "    \"\"\"\n",
    "    if number != 0:\n",
    "        if number >= 1:\n",
    "            return 1;\n",
    "        else: return -1\n",
    "    else: return 0\n",
    "\n",
    "print(sign(-25))\n",
    "print(sign(25))\n",
    "print(sign(25-25))"
   ]
  },
  {
   "cell_type": "code",
   "execution_count": 66,
   "id": "25e2a3f5",
   "metadata": {},
   "outputs": [
    {
     "name": "stdout",
     "output_type": "stream",
     "text": [
      "Splitting 91 candies\n",
      "Splitting 1 candy\n"
     ]
    }
   ],
   "source": [
    "def to_smash(total_candies):\n",
    "    \"\"\"Return the number of leftover candies that must be smashed after distributing\n",
    "    the given number of candies evenly between 3 friends.\n",
    "    \n",
    "    >>> to_smash(91)\n",
    "    1\n",
    "    \"\"\"\n",
    "    if total_candies !=1:\n",
    "        print(\"Splitting\", total_candies, \"candies\")\n",
    "        return total_candies % 3\n",
    "    else: print(\"Splitting\", total_candies, \"candy\")\n",
    "\n",
    "to_smash(91)\n",
    "to_smash(1)"
   ]
  },
  {
   "cell_type": "code",
   "execution_count": 68,
   "id": "8d4378cf",
   "metadata": {},
   "outputs": [
    {
     "name": "stdout",
     "output_type": "stream",
     "text": [
      "True\n",
      "False\n",
      "False\n"
     ]
    }
   ],
   "source": [
    "def is_negative(number):\n",
    "    if number < 0:\n",
    "        return True\n",
    "    else:\n",
    "        return False\n",
    "\n",
    "def concise_is_negative(number):\n",
    "    return number < 0\n",
    "print(concise_is_negative(-25))\n",
    "print(concise_is_negative(25))\n",
    "print(concise_is_negative(0))"
   ]
  },
  {
   "cell_type": "code",
   "execution_count": 80,
   "id": "ec7568ac",
   "metadata": {},
   "outputs": [
    {
     "name": "stdout",
     "output_type": "stream",
     "text": [
      "(True, True, True) \n",
      "\n",
      "False \n",
      "\n",
      "Ketchup:  False  Mustard:  True  Onion:  True\n"
     ]
    }
   ],
   "source": [
    "def wants_all_toppings(ketchup, mustard, onion):\n",
    "    \"\"\"Return whether the customer wants \"the works\" (all 3 toppings)\n",
    "    \"\"\"\n",
    "    ketchup = True;    mustard = True; onion = True\n",
    "    return ketchup,mustard,onion\n",
    "\n",
    "def wants_plain_hotdog(ketchup, mustard, onion):\n",
    "    \"\"\"Return whether the customer wants a plain hot dog with no toppings.\n",
    "    \"\"\"\n",
    "    return ketchup != True; mustard != True; onion != True\n",
    "\n",
    "def exactly_one_sauce(ketchup, mustard, onion):\n",
    "    \"\"\"Return whether the customer wants either ketchup or mustard, but not both.\n",
    "    (You may be familiar with this operation under the name \"exclusive or\")\n",
    "    \"\"\"\n",
    "    if ketchup != mustard:\n",
    "        return True;\n",
    "    else: return False;\n",
    "    \n",
    "ketchup = True; mustard = False; onion = True\n",
    "print(wants_all_toppings(ketchup, mustard, onion),\"\\n\")\n",
    "print(wants_plain_hotdog(ketchup, mustard, onion),\"\\n\")\n",
    "ketchup = False; mustard = True; onion = True\n",
    "exactly_one_sauce(ketchup, mustard, onion)\n",
    "print(\"Ketchup: \",ketchup,\" Mustard: \",mustard,\" Onion: \",onion)"
   ]
  },
  {
   "cell_type": "code",
   "execution_count": 88,
   "id": "bb015ecc",
   "metadata": {},
   "outputs": [
    {
     "name": "stdout",
     "output_type": "stream",
     "text": [
      "True\n",
      "True\n"
     ]
    }
   ],
   "source": [
    "def exactly_one_topping(ketchup, mustard, onion):\n",
    "    \"\"\"Return whether the customer wants exactly one of the three available toppings\n",
    "    on their hot dog.\n",
    "    \"\"\"\n",
    "    return not(ketchup and mustard and onion)\n",
    "\n",
    "ketchup = False; mustard = False; onion = False\n",
    "print(exactly_one_topping(ketchup, mustard, onion))\n",
    "ketchup = False; mustard = False; onion = True\n",
    "print(exactly_one_topping(ketchup, mustard, onion))\n"
   ]
  },
  {
   "cell_type": "code",
   "execution_count": 5,
   "id": "43eceb3b",
   "metadata": {},
   "outputs": [
    {
     "name": "stdout",
     "output_type": "stream",
     "text": [
      "1\n",
      "None\n"
     ]
    }
   ],
   "source": [
    "def select_second(L):\n",
    "    \"\"\"Return the second element of the given list. If the list has no second\n",
    "    element, return None.\n",
    "    \"\"\"\n",
    "    if len(L) < 2:\n",
    "        return None\n",
    "    return L[1]\n",
    "print(select_second([0,1,2,3,4,5,6]))\n",
    "print(select_second([0]))\n"
   ]
  },
  {
   "cell_type": "code",
   "execution_count": null,
   "id": "3d0570e5",
   "metadata": {},
   "outputs": [],
   "source": [
    "def losing_team_captain(teams):\n",
    "    \"\"\"Given a list of teams, where each team is a list of names, return the 2nd player (captain)\n",
    "    from the last listed team\n",
    "    \"\"\"\n",
    "    return teams[-1][1]"
   ]
  },
  {
   "cell_type": "code",
   "execution_count": 6,
   "id": "17c78758",
   "metadata": {},
   "outputs": [],
   "source": [
    "def purple_shell(racers):\n",
    "    \"\"\"Given a list of racers, set the first place racer (at the front of the list) to last\n",
    "    place and vice versa.\n",
    "    \n",
    "    >>> r = [\"Mario\", \"Bowser\", \"Luigi\"]\n",
    "    >>> purple_shell(r)\n",
    "    >>> r\n",
    "    [\"Luigi\", \"Bowser\", \"Mario\"]\n",
    "    \"\"\"\n",
    "    racers[0],racers[-1] = racers[-1],racers[0]"
   ]
  },
  {
   "cell_type": "code",
   "execution_count": 12,
   "id": "d63d7518",
   "metadata": {},
   "outputs": [
    {
     "name": "stdout",
     "output_type": "stream",
     "text": [
      "[3, 3, 0, 2]\n",
      "3\n",
      "2\n",
      "0\n",
      "2\n"
     ]
    }
   ],
   "source": [
    "a = [1, 2, 3]\n",
    "b = [1, [2, 3]]\n",
    "c = []\n",
    "d = [1, 2, 3][1:]\n",
    "\n",
    "# Put your predictions in the list below. Lengths should contain 4 numbers, the\n",
    "# first being the length of a, the second being the length of b and so on.\n",
    "lengths = [3,3,0,2]\n",
    "print(lengths)\n",
    "print(len(a))\n",
    "print(len(b))\n",
    "print(len(c))\n",
    "print(len(d))"
   ]
  },
  {
   "cell_type": "code",
   "execution_count": 24,
   "id": "f88c64fd",
   "metadata": {},
   "outputs": [],
   "source": [
    "def fashionably_late(arrivals, name):\n",
    "    \"\"\"Given an ordered list of arrivals to the party and a name, return whether the guest with that\n",
    "    name was fashionably late.\n",
    "    \"\"\"\n",
    "    idx = arrivals.index(name)  # Find the index of the guest with the given name\n",
    "    if idx >= len(arrivals) / 2 and not idx == arrivals.index(arrivals[-1]):\n",
    "        print(\"This person is a fashionably late\")\n",
    "    else: print(\"This person is not a fashionably late\")\n"
   ]
  },
  {
   "cell_type": "code",
   "execution_count": 26,
   "id": "0417d00f",
   "metadata": {},
   "outputs": [],
   "source": [
    "def has_lucky_number(nums):\n",
    "    \"\"\"Return whether the given list of numbers is lucky. A lucky list contains\n",
    "    at least one number divisible by 7.\n",
    "    \"\"\"\n",
    "    for num in nums:\n",
    "        if num % 7 == 0:\n",
    "            return True\n",
    "        return False"
   ]
  },
  {
   "cell_type": "code",
   "execution_count": 30,
   "id": "2a7c2cbb",
   "metadata": {},
   "outputs": [],
   "source": [
    "def elementwise_greater_than(L, thresh):\n",
    "    \"\"\"Return a list with the same length as L, where the value at index i is \n",
    "    True if L[i] is greater than thresh, and False otherwise.\n",
    "    \n",
    "    >>> elementwise_greater_than([1, 2, 3, 4], 2)\n",
    "    [False, False, True, True]\n",
    "    \"\"\"\n",
    "    result= []\n",
    "    for idx in L:\n",
    "        if idx > thresh:\n",
    "            result.append(True)\n",
    "        else:\n",
    "            result.append(False)\n",
    "    return result"
   ]
  },
  {
   "cell_type": "code",
   "execution_count": 32,
   "id": "594d4702",
   "metadata": {},
   "outputs": [],
   "source": [
    "def menu_is_boring(meals):\n",
    "    \"\"\"Given a list of meals served over some period of time, return True if the\n",
    "    same meal has ever been served two days in a row, and False otherwise.\n",
    "    \"\"\"\n",
    "    for i in range(1, len(meals)):\n",
    "        if meals[i] == meals[i-1]:\n",
    "            return True\n",
    "    return False"
   ]
  },
  {
   "cell_type": "code",
   "execution_count": 33,
   "id": "dbc5d067",
   "metadata": {},
   "outputs": [
    {
     "name": "stdout",
     "output_type": "stream",
     "text": [
      "\u001b[H\u001b[2;1HB\u001b[2;2He\u001b[1;3He\u001b[2;4HC\u001b[2;5Hr\u001b[2;1HB\u001b[2;2He\u001b[1;3He\u001b[2;4HC\u001b[2;5Hr\u001b[2;1HB\u001b[2;2He\u001b[1;3He\u001b[2;4HC\u001b[2;5Hr\u001b[2;1HB\u001b[2;2He\u001b[1;3He\u001b[2;4HC\u001b[2;5Hr\u001b[2;1HB\u001b[2;2He\u001b[2;3He\u001b[2;4HC\u001b[2;5Hr\u001b[H\u001b[2;1HB\u001b[2;2He\u001b[1;3He\u001b[2;4HC\u001b[2;5Hr\u001b[2;1HB\u001b[2;2He\u001b[1;3He\u001b[2;4HC\u001b[2;5Hr\u001b[2;1HB\u001b[2;2He\u001b[1;3He\u001b[2;4HC\u001b[2;5Hr\u001b[2;1HB\u001b[2;2He\u001b[1;3He\u001b[2;4HC\u001b[2;5Hr\u001b[2;1HB\u001b[2;2He\u001b[2;3He\u001b[2;4HC\u001b[2;5Hr\u001b[H\u001b[2;1HB\u001b[2;2He\u001b[1;3He\u001b[2;4HC\u001b[2;5Hr\u001b[2;1HB\u001b[2;2He\u001b[1;3He\u001b[2;4HC\u001b[2;5Hr\u001b[2;1HB\u001b[2;2He\u001b[1;3He\u001b[2;4HC\u001b[2;5Hr\u001b[2;1HB\u001b[2;2He\u001b[1;3He\u001b[2;4HC\u001b[2;5Hr\u001b[2;1HB\u001b[2;2He\u001b[2;3He\u001b[2;4HC\u001b[2;5Hr\u001b[H\u001b[2;1HB\u001b[2;2He\u001b[1;3He\u001b[2;4HC\u001b[2;5Hr\u001b[2;1HB\u001b[2;2He\u001b[1;3He\u001b[2;4HC\u001b[2;5Hr\u001b[2;1HB\u001b[2;2He\u001b[1;3He\u001b[2;4HC\u001b[2;5Hr\u001b[2;1HB\u001b[2;2He\u001b[1;3He\u001b[2;4HC\u001b[2;5Hr\u001b[2;1HB\u001b[2;2He\u001b[2;3He\u001b[2;4HC\u001b[2;5Hr\u001b[H\u001b[2;1HB\u001b[2;2He\u001b[1;3He\u001b[2;4HC\u001b[2;5Hr\u001b[2;1HB\u001b[2;2He\u001b[1;3He\u001b[2;4HC\u001b[2;5Hr\u001b[2;1HB\u001b[2;2He\u001b[1;3He\u001b[2;4HC\u001b[2;5Hr\u001b[2;1HB\u001b[2;2He\u001b[1;3He\u001b[2;4HC\u001b[2;5Hr\u001b[2;1HB\u001b[2;2He\u001b[2;3He\u001b[2;4HC\u001b[2;5Hr\u001b[H\u001b[2;1HB\u001b[2;2He\u001b[1;3He\u001b[2;4HC\u001b[2;5Hr\u001b[2;1HB\u001b[2;2He\u001b[1;3He\u001b[2;4HC\u001b[2;5Hr\u001b[2;1HB\u001b[2;2He\u001b[1;3He\u001b[2;4HC\u001b[2;5Hr\u001b[2;1HB\u001b[2;2He\u001b[1;3He\u001b[2;4HC\u001b[2;5Hr\u001b[2;1HB\u001b[2;2He\u001b[3;3He\u001b[2;4HC\u001b[2;5Hr\u001b[H\u001b[2;1HB\u001b[2;2He\u001b[1;3He\u001b[2;4HC\u001b[2;5Hr\u001b[2;1HB\u001b[2;2He\u001b[1;3He\u001b[2;4HC\u001b[2;5Hr\u001b[2;1HB\u001b[2;2He\u001b[1;3He\u001b[2;4HC\u001b[2;5Hr\u001b[2;1HB\u001b[2;2He\u001b[1;3He\u001b[2;4HC\u001b[2;5Hr\u001b[2;1HB\u001b[2;2He\u001b[3;3He\u001b[2;4HC\u001b[2;5Hr\u001b[H\u001b[2;1HB\u001b[2;2He\u001b[1;3He\u001b[2;4HC\u001b[2;5Hr\u001b[2;1HB\u001b[2;2He\u001b[1;3He\u001b[2;4HC\u001b[2;5Hr\u001b[2;1HB\u001b[2;2He\u001b[1;3He\u001b[2;4HC\u001b[2;5Hr\u001b[2;1HB\u001b[2;2He\u001b[1;3He\u001b[2;4HC\u001b[2;5Hr\u001b[2;1HB\u001b[2;2He\u001b[3;3He\u001b[2;4HC\u001b[2;5Hr\u001b[H\u001b[2;1HB\u001b[2;2He\u001b[1;3He\u001b[2;4HC\u001b[2;5Hr\u001b[2;1HB\u001b[2;2He\u001b[1;3He\u001b[2;4HC\u001b[2;5Hr\u001b[2;1HB\u001b[2;2He\u001b[1;3He\u001b[2;4HC\u001b[2;5Hr\u001b[2;1HB\u001b[2;2He\u001b[1;3He\u001b[2;4HC\u001b[2;5Hr\u001b[2;1HB\u001b[2;2He\u001b[3;3He\u001b[2;4HC\u001b[2;5Hr\u001b[H\u001b[2;1HB\u001b[2;2He\u001b[1;3He\u001b[2;4HC\u001b[2;5Hr\u001b[2;1HB\u001b[2;2He\u001b[1;3He\u001b[2;4HC\u001b[2;5Hr\u001b[2;1HB\u001b[2;2He\u001b[1;3He\u001b[2;4HC\u001b[2;5Hr\u001b[2;1HB\u001b[2;2He\u001b[1;3He\u001b[2;4HC\u001b[2;5Hr\u001b[2;1HB\u001b[2;2He\u001b[3;3He\u001b[2;4HC\u001b[2;5Hr\u001b[H\u001b[2;1HB\u001b[2;2He\u001b[1;3He\u001b[2;4HC\u001b[2;5Hr\u001b[2;1HB\u001b[2;2He\u001b[1;3He\u001b[2;4HC\u001b[2;5Hr\u001b[2;1HB\u001b[2;2He\u001b[1;3He\u001b[2;4HC\u001b[2;5Hr\u001b[2;1HB\u001b[2;2He\u001b[1;3He\u001b[2;4HC\u001b[2;5Hr\u001b[2;1HB\u001b[2;2He\u001b[3;3He\u001b[2;4HC\u001b[2;5Hr\u001b[H\u001b[2;1HB\u001b[2;2He\u001b[1;3He\u001b[2;4HC\u001b[2;5Hr\u001b[2;1HB\u001b[2;2He\u001b[1;3He\u001b[2;4HC\u001b[2;5Hr\u001b[2;1HB\u001b[2;2He\u001b[1;3He\u001b[2;4HC\u001b[2;5Hr\u001b[2;1HB\u001b[2;2He\u001b[1;3He\u001b[2;4HC\u001b[2;5Hr\u001b[2;1HB\u001b[2;2He\u001b[3;3He\u001b[2;4HC\u001b[2;5Hr\u001b[H\u001b[2;1HB\u001b[2;2He\u001b[1;3He\u001b[2;4HC\u001b[2;5Hr\u001b[2;1HB\u001b[2;2He\u001b[1;3He\u001b[2;4HC\u001b[2;5Hr\u001b[2;1HB\u001b[2;2He\u001b[1;3He\u001b[2;4HC\u001b[2;5Hr\u001b[2;1HB\u001b[2;2He\u001b[1;3He\u001b[2;4HC\u001b[2;5Hr\u001b[2;1HB\u001b[2;2He\u001b[3;3He\u001b[2;4HC\u001b[2;5Hr\u001b[H\u001b[2;1HB\u001b[2;2He\u001b[1;3He\u001b[2;4HC\u001b[2;5Hr\u001b[2;1HB\u001b[2;2He\u001b[1;3He\u001b[2;4HC\u001b[2;5Hr\u001b[2;1HB\u001b[2;2He\u001b[1;3He\u001b[2;4HC\u001b[2;5Hr\u001b[2;1HB\u001b[2;2He\u001b[1;3He\u001b[2;4HC\u001b[2;5Hr\u001b[2;1HB\u001b[2;2He\u001b[4;3He\u001b[2;4HC\u001b[2;5Hr\u001b[H\u001b[2;1HB\u001b[2;2He\u001b[1;3He\u001b[2;4HC\u001b[2;5Hr\u001b[2;1HB\u001b[2;2He\u001b[1;3He\u001b[2;4HC\u001b[2;5Hr\u001b[2;1HB\u001b[2;2He\u001b[1;3He\u001b[2;4HC\u001b[2;5Hr\u001b[2;1HB\u001b[2;2He\u001b[1;3He\u001b[2;4HC\u001b[2;5Hr\u001b[2;1HB\u001b[2;2He\u001b[4;3He\u001b[2;4HC\u001b[2;5Hr\u001b[H\u001b[2;1HB\u001b[2;2He\u001b[1;3He\u001b[2;4HC\u001b[2;5Hr\u001b[2;1HB\u001b[2;2He\u001b[1;3He\u001b[2;4HC\u001b[2;5Hr\u001b[2;1HB\u001b[2;2He\u001b[1;3He\u001b[2;4HC\u001b[2;5Hr\u001b[2;1HB\u001b[2;2He\u001b[1;3He\u001b[2;4HC\u001b[2;5Hr\u001b[2;1HB\u001b[2;2He\u001b[5;3He\u001b[2;4HC\u001b[2;5Hr\u001b[H\u001b[2;1HB\u001b[2;2He\u001b[1;3He\u001b[2;4HC\u001b[2;5Hr\u001b[2;1HB\u001b[2;2He\u001b[1;3He\u001b[2;4HC\u001b[2;5Hr\u001b[2;1HB\u001b[2;2He\u001b[1;3He\u001b[2;4HC\u001b[2;5Hr\u001b[2;1HB\u001b[2;2He\u001b[1;3He\u001b[2;4HC\u001b[2;5Hr\u001b[2;1HB\u001b[2;2He\u001b[7;3He\u001b[2;4HC\u001b[2;5Hr\u001b[H\u001b[2;1HB\u001b[2;2He\u001b[1;3He\u001b[2;4HC\u001b[2;5Hr\u001b[2;1HB\u001b[2;2He\u001b[1;3He\u001b[2;4HC\u001b[2;5Hr\u001b[2;1HB\u001b[2;2He\u001b[1;3He\u001b[2;4HC\u001b[2;5Hr\u001b[2;1HB\u001b[2;2He\u001b[1;3He\u001b[2;4HC\u001b[2;5Hr\u001b[2;1HB\u001b[2;2He\u001b[11;3He\u001b[2;4HC\u001b[2;5Hr\u001b[H\u001b[2;1HB\u001b[2;2He\u001b[1;3He\u001b[2;4HC\u001b[2;5Hr\u001b[2;1HB\u001b[2;2He\u001b[1;3He\u001b[2;4HC\u001b[2;5Hr\u001b[2;1HB\u001b[2;2He\u001b[1;3He\u001b[2;4HC\u001b[2;5Hr\u001b[2;1HB\u001b[2;2He\u001b[1;3He\u001b[2;4HC\u001b[2;5Hr\u001b[2;1HB\u001b[2;2He\u001b[2;4HC\u001b[2;5Hr\u001b[H\u001b[2;1HB\u001b[2;2He\u001b[1;3He\u001b[2;4HC\u001b[2;5Hr\u001b[2;1HB\u001b[2;2He\u001b[1;3He\u001b[2;4HC\u001b[2;5Hr\u001b[2;1HB\u001b[2;2He\u001b[1;3He\u001b[2;4HC\u001b[2;5Hr\u001b[2;1HB\u001b[2;2He\u001b[1;3He\u001b[2;4HC\u001b[2;5Hr\u001b[2;1HB\u001b[2;2He\u001b[2;4HC\u001b[2;5Hr\u001b[H\u001b[2;1HB\u001b[2;2He\u001b[1;3He\u001b[2;4HC\u001b[2;5Hr\u001b[2;1HB\u001b[2;2He\u001b[1;3He\u001b[2;4HC\u001b[2;5Hr\u001b[2;1HB\u001b[2;2He\u001b[1;3He\u001b[2;4HC\u001b[2;5Hr\u001b[2;1HB\u001b[2;2He\u001b[1;3He\u001b[2;4HC\u001b[2;5Hr\u001b[2;1HB\u001b[2;2He\u001b[2;4HC\u001b[2;5Hr\u001b[H\u001b[2;1HB\u001b[2;2He\u001b[1;3He\u001b[2;4HC\u001b[2;5Hr\u001b[2;1HB\u001b[2;2He\u001b[1;3He\u001b[2;4HC\u001b[2;5Hr\u001b[2;1HB\u001b[2;2He\u001b[1;3He\u001b[2;4HC\u001b[2;5Hr\u001b[2;1HB\u001b[2;2He\u001b[1;3He\u001b[2;4HC\u001b[2;5Hr\u001b[2;1HB\u001b[2;2He\u001b[2;4HC\u001b[2;5Hr\u001b[H\u001b[2;1HB\u001b[2;2He\u001b[1;3He\u001b[2;4HC\u001b[2;5Hr\u001b[2;1HB\u001b[2;2He\u001b[1;3He\u001b[2;4HC\u001b[2;5Hr\u001b[2;1HB\u001b[2;2He\u001b[1;3He\u001b[2;4HC\u001b[2;5Hr\u001b[2;1HB\u001b[2;2He\u001b[1;3He\u001b[2;4HC\u001b[2;5Hr\u001b[2;1HB\u001b[2;2He\u001b[2;4HC\u001b[2;5Hr\u001b[H\u001b[2;1HB\u001b[2;2He\u001b[1;3He\u001b[3;4HC\u001b[2;5Hr\u001b[2;1HB\u001b[2;2He\u001b[1;3He\u001b[3;4HC\u001b[2;5Hr\u001b[2;1HB\u001b[2;2He\u001b[1;3He\u001b[3;4HC\u001b[2;5Hr\u001b[2;1HB\u001b[2;2He\u001b[1;3He\u001b[3;4HC\u001b[2;5Hr\u001b[2;1HB\u001b[2;2He\u001b[1;3He\u001b[2;4HC\u001b[2;5Hr\u001b[H\u001b[2;1HB\u001b[2;2He\u001b[1;3He\u001b[3;4HC\u001b[2;5Hr\u001b[2;1HB\u001b[2;2He\u001b[1;3He\u001b[3;4HC\u001b[2;5Hr\u001b[2;1HB\u001b[2;2He\u001b[1;3He\u001b[3;4HC\u001b[2;5Hr\u001b[2;1HB\u001b[2;2He\u001b[1;3He\u001b[3;4HC\u001b[2;5Hr\u001b[2;1HB\u001b[2;2He\u001b[1;3He\u001b[2;4HC\u001b[2;5Hr\u001b[H\u001b[2;1HB\u001b[2;2He\u001b[1;3He\u001b[3;4HC\u001b[2;5Hr\u001b[2;1HB\u001b[2;2He\u001b[1;3He\u001b[3;4HC\u001b[2;5Hr\u001b[2;1HB\u001b[2;2He\u001b[1;3He\u001b[3;4HC\u001b[2;5Hr\u001b[2;1HB\u001b[2;2He\u001b[1;3He\u001b[3;4HC\u001b[2;5Hr\u001b[2;1HB\u001b[2;2He\u001b[1;3He\u001b[2;4HC\u001b[2;5Hr\u001b[H\u001b[2;1HB\u001b[2;2He\u001b[2;3He\u001b[4;4HC\u001b[2;5Hr\u001b[2;1HB\u001b[2;2He\u001b[2;3He\u001b[4;4HC\u001b[2;5Hr\u001b[2;1HB\u001b[2;2He\u001b[2;3He\u001b[4;4HC\u001b[2;5Hr\u001b[2;1HB\u001b[2;2He\u001b[2;3He\u001b[4;4HC\u001b[2;5Hr\u001b[2;1HB\u001b[2;2He\u001b[1;3He\u001b[2;4HC\u001b[2;5Hr\u001b[H\u001b[2;1HB\u001b[2;2He\u001b[2;3He\u001b[17;4HC\u001b[2;5Hr\u001b[2;1HB\u001b[2;2He\u001b[2;3He\u001b[17;4HC\u001b[2;5Hr\u001b[2;1HB\u001b[2;2He\u001b[2;3He\u001b[17;4HC\u001b[2;5Hr\u001b[2;1HB\u001b[2;2He\u001b[2;3He\u001b[17;4HC\u001b[2;5Hr\u001b[2;1HB\u001b[2;2He\u001b[1;3He\u001b[2;4HC\u001b[2;5Hr\u001b[H\u001b[2;1HB\u001b[2;2He\u001b[2;3He\u001b[2;5Hr\u001b[2;1HB\u001b[2;2He\u001b[2;3He\u001b[2;5Hr\u001b[2;1HB\u001b[2;2He\u001b[2;3He\u001b[2;5Hr\u001b[2;1HB\u001b[2;2He\u001b[2;3He\u001b[2;5Hr\u001b[2;1HB\u001b[2;2He\u001b[1;3He\u001b[2;4HC\u001b[2;5Hr\u001b[H\u001b[2;1HB\u001b[2;2He\u001b[2;3He\u001b[2;5Hr\u001b[2;1HB\u001b[2;2He\u001b[2;3He\u001b[2;5Hr\u001b[2;1HB\u001b[2;2He\u001b[2;3He\u001b[2;5Hr\u001b[2;1HB\u001b[2;2He\u001b[2;3He\u001b[2;5Hr\u001b[2;1HB\u001b[2;2He\u001b[1;3He\u001b[3;4HC\u001b[2;5Hr\u001b[H\u001b[2;1HB\u001b[2;2He\u001b[2;3He\u001b[2;5Hr\u001b[2;1HB\u001b[2;2He\u001b[2;3He\u001b[2;5Hr\u001b[2;1HB\u001b[2;2He\u001b[2;3He\u001b[2;5Hr\u001b[2;1HB\u001b[2;2He\u001b[2;3He\u001b[2;5Hr\u001b[2;1HB\u001b[2;2He\u001b[1;3He\u001b[3;4HC\u001b[2;5Hr\u001b[H\u001b[2;1HB\u001b[2;2He\u001b[2;3He\u001b[1;4HC\u001b[2;5Hr\u001b[2;1HB\u001b[2;2He\u001b[2;3He\u001b[1;4HC\u001b[2;5Hr\u001b[2;1HB\u001b[2;2He\u001b[2;3He\u001b[1;4HC\u001b[2;5Hr\u001b[2;1HB\u001b[2;2He\u001b[2;3He\u001b[1;4HC\u001b[2;5Hr\u001b[2;1HB\u001b[2;2He\u001b[1;3He\u001b[6;4HC\u001b[2;5Hr\u001b[H\u001b[2;1HB\u001b[2;2He\u001b[2;3He\u001b[1;4HC\u001b[2;5Hr\u001b[2;1HB\u001b[2;2He\u001b[2;3He\u001b[1;4HC\u001b[2;5Hr\u001b[2;1HB\u001b[2;2He\u001b[2;3He\u001b[1;4HC\u001b[2;5Hr\u001b[2;1HB\u001b[2;2He\u001b[2;3He\u001b[1;4HC\u001b[2;5Hr\u001b[2;1HB\u001b[2;2He\u001b[1;3He\u001b[2;5Hr\u001b[H\u001b[2;1HB\u001b[2;2He\u001b[2;3He\u001b[1;4HC\u001b[2;5Hr\u001b[2;1HB\u001b[2;2He\u001b[2;3He\u001b[1;4HC\u001b[2;5Hr\u001b[2;1HB\u001b[2;2He\u001b[2;3He\u001b[1;4HC\u001b[2;5Hr\u001b[2;1HB\u001b[2;2He\u001b[2;3He\u001b[1;4HC\u001b[2;5Hr\u001b[2;1HB\u001b[2;2He\u001b[1;3He\u001b[2;5Hr\u001b[H\u001b[2;1HB\u001b[2;2He\u001b[2;3He\u001b[1;4HC\u001b[2;5Hr\u001b[2;1HB\u001b[2;2He\u001b[2;3He\u001b[1;4HC\u001b[2;5Hr\u001b[2;1HB\u001b[2;2He\u001b[2;3He\u001b[1;4HC\u001b[2;5Hr\u001b[2;1HB\u001b[2;2He\u001b[2;3He\u001b[1;4HC\u001b[2;5Hr\u001b[2;1HB\u001b[2;2He\u001b[1;3He\u001b[1;4HC\u001b[2;5Hr\u001b[H\u001b[2;1HB\u001b[2;2He\u001b[2;3He\u001b[1;4HC\u001b[2;5Hr\u001b[2;1HB\u001b[2;2He\u001b[2;3He\u001b[1;4HC\u001b[2;5Hr\u001b[2;1HB\u001b[2;2He\u001b[2;3He\u001b[1;4HC\u001b[2;5Hr\u001b[2;1HB\u001b[2;2He\u001b[2;3He\u001b[1;4HC\u001b[2;5Hr\u001b[2;1HB\u001b[2;2He\u001b[1;3He\u001b[1;4HC\u001b[2;5Hr\u001b[H\u001b[2;1HB\u001b[2;2He\u001b[2;3He\u001b[1;4HC\u001b[2;5Hr\u001b[2;1HB\u001b[2;2He\u001b[2;3He\u001b[1;4HC\u001b[2;5Hr\u001b[2;1HB\u001b[2;2He\u001b[2;3He\u001b[1;4HC\u001b[2;5Hr\u001b[2;1HB\u001b[2;2He\u001b[2;3He\u001b[1;4HC\u001b[2;5Hr\u001b[2;1HB\u001b[2;2He\u001b[1;3He\u001b[1;4HC\u001b[2;5Hr\u001b[H\u001b[2;1HB\u001b[2;2He\u001b[2;3He\u001b[1;4HC\u001b[2;5Hr\u001b[2;1HB\u001b[2;2He\u001b[2;3He\u001b[1;4HC\u001b[2;5Hr\u001b[2;1HB\u001b[2;2He\u001b[2;3He\u001b[1;4HC\u001b[2;5Hr\u001b[2;1HB\u001b[2;2He\u001b[2;3He\u001b[1;4HC\u001b[2;5Hr\u001b[2;1HB\u001b[2;2He\u001b[1;3He\u001b[1;4HC\u001b[2;5Hr\u001b[H\u001b[2;1HB\u001b[2;2He\u001b[2;3He\u001b[1;4HC\u001b[2;5Hr\u001b[2;1HB\u001b[2;2He\u001b[2;3He\u001b[1;4HC\u001b[2;5Hr\u001b[2;1HB\u001b[2;2He\u001b[2;3He\u001b[1;4HC\u001b[2;5Hr\u001b[2;1HB\u001b[2;2He\u001b[2;3He\u001b[1;4HC\u001b[2;5Hr\u001b[2;1HB\u001b[2;2He\u001b[1;3He\u001b[1;4HC\u001b[2;5Hr\u001b[H\u001b[2;1HB\u001b[2;2He\u001b[2;3He\u001b[2;4HC\u001b[2;5Hr\u001b[2;1HB\u001b[2;2He\u001b[2;3He\u001b[2;4HC\u001b[2;5Hr\u001b[2;1HB\u001b[2;2He\u001b[2;3He\u001b[2;4HC\u001b[2;5Hr\u001b[2;1HB\u001b[2;2He\u001b[2;3He\u001b[2;4HC\u001b[2;5Hr\u001b[2;1HB\u001b[2;2He\u001b[2;3He\u001b[1;4HC\u001b[2;5Hr\u001b[H\u001b[2;1HB\u001b[2;2He\u001b[2;3He\u001b[2;4HC\u001b[2;5Hr\u001b[2;1HB\u001b[2;2He\u001b[2;3He\u001b[2;4HC\u001b[2;5Hr\u001b[2;1HB\u001b[2;2He\u001b[2;3He\u001b[2;4HC\u001b[2;5Hr\u001b[2;1HB\u001b[2;2He\u001b[2;3He\u001b[2;4HC\u001b[2;5Hr\u001b[2;1HB\u001b[2;2He\u001b[2;3He\u001b[1;4HC\u001b[2;5Hr\u001b[H\u001b[2;1HB\u001b[2;2He\u001b[2;3He\u001b[2;4HC\u001b[2;5Hr\u001b[2;1HB\u001b[2;2He\u001b[2;3He\u001b[2;4HC\u001b[2;5Hr\u001b[2;1HB\u001b[2;2He\u001b[2;3He\u001b[2;4HC\u001b[2;5Hr\u001b[2;1HB\u001b[2;2He\u001b[2;3He\u001b[2;4HC\u001b[2;5Hr\u001b[2;1HB\u001b[2;2He\u001b[2;3He\u001b[1;4HC\u001b[2;5Hr\u001b[H\u001b[2;1HB\u001b[2;2He\u001b[2;3He\u001b[2;4HC\u001b[2;5Hr\u001b[2;1HB\u001b[2;2He\u001b[2;3He\u001b[2;4HC\u001b[2;5Hr\u001b[2;1HB\u001b[2;2He\u001b[2;3He\u001b[2;4HC\u001b[2;5Hr\u001b[2;1HB\u001b[2;2He\u001b[2;3He\u001b[2;4HC\u001b[2;5Hr\u001b[2;1HB\u001b[2;2He\u001b[2;3He\u001b[2;4HC\u001b[2;5Hr\u001b[H\u001b[2;1HB\u001b[2;2He\u001b[2;3He\u001b[2;4HC\u001b[2;5Hr\u001b[2;1HB\u001b[2;2He\u001b[2;3He\u001b[2;4HC\u001b[2;5Hr\u001b[2;1HB\u001b[2;2He\u001b[2;3He\u001b[2;4HC\u001b[2;5Hr\u001b[2;1HB\u001b[2;2He\u001b[2;3He\u001b[2;4HC\u001b[2;5Hr\u001b[2;1HB\u001b[2;2He\u001b[2;3He\u001b[2;4HC\u001b[2;4HC"
     ]
    }
   ],
   "source": []
  },
  {
   "cell_type": "code",
   "execution_count": null,
   "id": "a00f2ed0",
   "metadata": {},
   "outputs": [],
   "source": []
  }
 ],
 "metadata": {
  "kernelspec": {
   "display_name": "Python 3 (ipykernel)",
   "language": "python",
   "name": "python3"
  },
  "language_info": {
   "codemirror_mode": {
    "name": "ipython",
    "version": 3
   },
   "file_extension": ".py",
   "mimetype": "text/x-python",
   "name": "python",
   "nbconvert_exporter": "python",
   "pygments_lexer": "ipython3",
   "version": "3.11.0"
  }
 },
 "nbformat": 4,
 "nbformat_minor": 5
}
